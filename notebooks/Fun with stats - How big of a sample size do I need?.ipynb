{
 "metadata": {
  "name": "",
  "signature": "sha256:18b64fcb9baac7f83056e38219718a4439ffa5c9f9d23561d695ebf01921b5fa"
 },
 "nbformat": 3,
 "nbformat_minor": 0,
 "worksheets": [
  {
   "cells": [
    {
     "cell_type": "markdown",
     "metadata": {},
     "source": [
      "# Fun with stats: How big of a sample size do I need?"
     ]
    },
    {
     "cell_type": "code",
     "collapsed": false,
     "input": [
      "import numpy as np\n",
      "import pandas as pd\n",
      "import matplotlib.pyplot as plt\n",
      "%matplotlib inline\n",
      "pd.set_option('display.mpl_style', 'default')"
     ],
     "language": "python",
     "metadata": {},
     "outputs": [],
     "prompt_number": 56
    },
    {
     "cell_type": "markdown",
     "metadata": {},
     "source": [
      "I asked some people on Twitter what they wanted to understand about statistics, and someone asked: \n",
      "\n",
      "\"How do I decide how big of a sample size I need for an experiment?\"\n",
      "\n",
      "I'll do my best to answer, but first let's do an experiment! Let's flip a coin ten times.\n",
      "\n",
      "## Flipping a coin"
     ]
    },
    {
     "cell_type": "code",
     "collapsed": false,
     "input": [
      "# A function to flip a coin `num_times` times.\n",
      "def flip_coin(num_times):\n",
      "    coin_flips = np.random.randint(0, 2, num_times)\n",
      "    counts = pd.Series(coin_flips).value_counts().reindex([0,1]).fillna(0)\n",
      "    counts.index = ['heads', 'tails']\n",
      "    return counts"
     ],
     "language": "python",
     "metadata": {},
     "outputs": [],
     "prompt_number": 104
    },
    {
     "cell_type": "code",
     "collapsed": false,
     "input": [
      "flip_coin(10)"
     ],
     "language": "python",
     "metadata": {},
     "outputs": [
      {
       "metadata": {},
       "output_type": "pyout",
       "prompt_number": 101,
       "text": [
        "heads    7\n",
        "tails    3\n",
        "dtype: int64"
       ]
      }
     ],
     "prompt_number": 101
    },
    {
     "cell_type": "markdown",
     "metadata": {},
     "source": [
      "Oh man! 70% were heads! That's a big difference.\n",
      "\n",
      "**NOPE**. 10 as a sample size is way too small to decide that. What about 20?"
     ]
    },
    {
     "cell_type": "code",
     "collapsed": false,
     "input": [
      "flip_coin(20)"
     ],
     "language": "python",
     "metadata": {},
     "outputs": [
      {
       "metadata": {},
       "output_type": "pyout",
       "prompt_number": 71,
       "text": [
        "heads    13\n",
        "tails     7\n",
        "dtype: int64"
       ]
      }
     ],
     "prompt_number": 71
    },
    {
     "cell_type": "markdown",
     "metadata": {},
     "source": [
      "65% were heads! That is still a pretty big difference! **NOPE**. What about 10000?"
     ]
    },
    {
     "cell_type": "code",
     "collapsed": false,
     "input": [
      "flip_coin(10000)"
     ],
     "language": "python",
     "metadata": {},
     "outputs": [
      {
       "metadata": {},
       "output_type": "pyout",
       "prompt_number": 107,
       "text": [
        "heads    5018\n",
        "tails    4982\n",
        "dtype: int64"
       ]
      }
     ],
     "prompt_number": 107
    },
    {
     "cell_type": "markdown",
     "metadata": {},
     "source": [
      "That's very close to 50%.\n",
      "\n",
      "So what we've learned already, without even doing any statistics, is that if you're doing an experiment with two possible outcomes, and you're doing 10 trials, that's terrible. If you do 10,000 trials, that's pretty good, and if you see a big difference, like 80% / 20%, you can almost certainly rely on it.\n",
      "\n",
      "But if you're trying to detect a small difference like 50.3% / 49.7%, that's not a big enough difference to detect with only 10,000 trials.\n",
      "\n",
      "So far this has all been totally handwavy. There are a couple of ways to formalize our claims about sample size. One really common way is by doing *hypothesis testing*. So let's do that!\n",
      "\n",
      "Let's imagine that our experiment is that we're asking people whether they like mustard or not. We need to make a decision now about our experiment.\n",
      "\n",
      "**Step 1: make a null hypothesis**\n",
      "\n",
      "Let's say that we've talked to 10 people, and 7/10 of them like mustard. We are not fooled by small sample sizes and we ALREADY KNOW that we can't trust this information. But your brother is arguing \"7/10 seems like a lot! I like mustard! I totally believe this!\". You need to argue with him with MATH.\n",
      "\n",
      "So we're going to make what's called a \"null hypothesis\", and try to disprove it. In this case, let's make the null hypothesis *\"there's a 50/50 chance that a given person likes mustard\"*.\n",
      "\n",
      "So! What's the probability of seeing an outcome like 7/10 if the null hypothesis is true? We could calculate this, but we have a computer and I think it's more fun to use the computer.\n",
      "\n",
      "So let's pretend we ran this experiment 10,000 times, and the null hypothesis was true. We'd expect to sometimes get 10/10 mustard likers, sometimes 0/10, but mostly something in between. Since we can program, let's run the asking-10-people experiment 10,000 times!"
     ]
    },
    {
     "cell_type": "code",
     "collapsed": false,
     "input": [
      "def mustard_likers_null_hypothesis(sample_size): \n",
      "    coin_flips = flip_coin(sample_size)\n",
      "    return coin_flips.ix['heads']\n",
      "counts = pd.Series([mustard_likers_null_hypothesis(10) for i in range(10000)]).value_counts().sort_index()\n",
      "counts"
     ],
     "language": "python",
     "metadata": {},
     "outputs": [
      {
       "metadata": {},
       "output_type": "pyout",
       "prompt_number": 105,
       "text": [
        "0        7\n",
        "1      102\n",
        "2      444\n",
        "3     1158\n",
        "4     2002\n",
        "5     2425\n",
        "6     2094\n",
        "7     1176\n",
        "8      454\n",
        "9      127\n",
        "10      11\n",
        "dtype: int64"
       ]
      }
     ],
     "prompt_number": 105
    },
    {
     "cell_type": "markdown",
     "metadata": {},
     "source": [
      "We can also look at this on a graph!"
     ]
    },
    {
     "cell_type": "code",
     "collapsed": false,
     "input": [
      "counts.plot(kind='bar')"
     ],
     "language": "python",
     "metadata": {},
     "outputs": [
      {
       "metadata": {},
       "output_type": "pyout",
       "prompt_number": 106,
       "text": [
        "<matplotlib.axes.AxesSubplot at 0x6ea5050>"
       ]
      },
      {
       "metadata": {},
       "output_type": "display_data",
       "png": "[encoded data removed]",
       "text": [
        "<matplotlib.figure.Figure at 0x6e94450>"
       ]
      }
     ],
     "prompt_number": 106
    },
    {
     "cell_type": "markdown",
     "metadata": {},
     "source": [
      "Okay, amazing. The next step is:\n",
      "\n",
      "**Step 2: Find out the probability of seeing an outcome *this unlikely or more* if the null hypothesis is true**\n",
      "\n",
      "So if we add up all the times when 7/10 or more people liked mustard, that's about 1600 times, or 16% of the time.\n",
      "\n",
      "We could also calculate the exact probabilities, but this is pretty close so we won't. The way this kind of hypothesis testing works is that you only reject the null hypothesis if the probability of seeing this data if it's true is really low. So here the probability of seeing this data if the null hypothesis is true is 16%. 16% is pretty high, (1/6!), so we won't reject it. This value (0.16) is called a **p-value** by statisticians. We won't say that word again here though. Usually you want this to be more like 1% or 5%. \n",
      "\n",
      "We've really quickly arrived at\n",
      "\n",
      "**Step 3: Decide whether or not to reject the null hypothesis**\n",
      "\n",
      "If we see that 7/10 people like mustard, we can't reject it! If we'd instead seen that 10/10 of our survey respondants liked mustard, that would be a totally different story! The probability of seeing that is only about 10/10000, or 0.1%. So it would be actually very reasonable to reject the null hypothesis.\n",
      "\n",
      "### What if we'd used a bigger sample size?\n",
      "\n",
      "So asking 10 people wasn't good enough. What if we asked 10,000 people? Well, we have a computer, so we can simulate that!\n",
      "\n",
      "Let's flip a coin 10,000 times and count the number of heads. We'll get a number (like 5,001). Then we'll repeat *that* experiment 10,000 times and graph the results. This is like running 10,000 surveys of 10,000 people each."
     ]
    },
    {
     "cell_type": "code",
     "collapsed": false,
     "input": [
      "mustard_likers = pd.Series([mustard_likers_null_hypothesis(10000) for i in range(10000)]).value_counts().sort_index()"
     ],
     "language": "python",
     "metadata": {},
     "outputs": [],
     "prompt_number": 94
    },
    {
     "cell_type": "code",
     "collapsed": false,
     "input": [
      "plt.xlabel(\"Number of people who say they like mustard\")\n",
      "plt.ylabel(\"Frequency\")\n",
      "mustard_likers.reindex(np.arange(0, 10001)).fillna(0).plot()"
     ],
     "language": "python",
     "metadata": {},
     "outputs": [
      {
       "metadata": {},
       "output_type": "pyout",
       "prompt_number": 99,
       "text": [
        "<matplotlib.axes.AxesSubplot at 0x5dacb50>"
       ]
      },
      {
       "metadata": {},
       "output_type": "display_data",
       "png": "[encoded data removed]",
       "text": [
        "<matplotlib.figure.Figure at 0x694dad0>"
       ]
      }
     ],
     "prompt_number": 99
    },
    {
     "cell_type": "markdown",
     "metadata": {},
     "source": [
      "That's pretty narrow, so let's zoom in."
     ]
    },
    {
     "cell_type": "code",
     "collapsed": false,
     "input": [
      "plt.xlabel(\"Number of people who say they like mustard\")\n",
      "plt.ylabel(\"Frequency\")\n",
      "mustard_likers.reindex(np.arange(4700, 5300)).plot()"
     ],
     "language": "python",
     "metadata": {},
     "outputs": [
      {
       "metadata": {},
       "output_type": "pyout",
       "prompt_number": 98,
       "text": [
        "<matplotlib.axes.AxesSubplot at 0x6665e10>"
       ]
      },
      {
       "metadata": {},
       "output_type": "display_data",
       "png": "[encoded data removed]",
       "text": [
        "<matplotlib.figure.Figure at 0x66654d0>"
       ]
      }
     ],
     "prompt_number": 98
    },
    {
     "cell_type": "markdown",
     "metadata": {},
     "source": [
      "So in this graph we ran 10,000 surveys of 10,000 people, and in about 100 of them 5000 people said they liked mustard\n",
      "\n",
      "There are two neat things about this graph. The first neat thing is that it looks like a [normal distribution](https://en.wikipedia.org/wiki/Normal_distribution), or \"bell curve\". That's not a coincidence! It's because of the [central limit theorem](https://en.wikipedia.org/wiki/Central_limit_theorem)! MATH IS AMAZING.\n",
      "\n",
      "The second is how tightly centred it is around 5,000. You can see that the probability of seeing more than 52% or less than 48% is really low. This is because we've done a lot of samples.\n",
      "\n",
      "This also helps us understand how people could have calculated these probabilities back when we did not have computers but still needed to do statistics -- if you know that your distribution is going to be approximately the normal distribution (because of the central limit theorem), you can use [normal distribution tables](https://en.wikipedia.org/wiki/Standard_normal_table) to do your calculations.\n",
      "\n",
      "In this case, \"the number of heads you get when flipping a coin 10,000 times\" is approximately normally distributed, with mean 5000. \n",
      "\n",
      "### So how big of a sample size do I need?\n",
      "\n",
      "Here's how to decide\n",
      "\n",
      "1. Pick a null hypothesis (people are equally likely to like mustard or not)\n",
      "1. Pick a sample size (10000)\n",
      "1. Pick a test (do at least 5200 people say they like mustard?)\n",
      "1. What would the probability of your test passing be if the null hypothesis was true? (less than 1%!)\n",
      "1. If that probability is low, it means that you can reject your null hypothesis! And your less-mathematically-savvy brother is wrong, and you have PROOF.\n",
      "\n",
      "Some things that we didn't discuss here, but could have:\n",
      "\n",
      "* independence (we're implicitly assuming all the samples are independent)\n",
      "* trying to prove an alternate hypothesis as well as trying to disprove the null hypothesis\n",
      "\n",
      "I was also going to do a Bayesian analysis of this same data but I'm going to go biking instead. That will have to wait for another day. Later!"
     ]
    },
    {
     "cell_type": "markdown",
     "metadata": {},
     "source": [
      "<style>\n",
      "    @font-face {\n",
      "        font-family: \"Computer Modern\";\n",
      "        src: url('http://mirrors.ctan.org/fonts/cm-unicode/fonts/otf/cmunss.otf');\n",
      "    }\n",
      "    div.cell{\n",
      "        width:800px;\n",
      "        margin-left:16% !important;\n",
      "        margin-right:auto;\n",
      "    }\n",
      "    h1 {\n",
      "        font-family: Helvetica, serif;\n",
      "    }\n",
      "    h4{\n",
      "        margin-top:12px;\n",
      "        margin-bottom: 3px;\n",
      "       }\n",
      "    div.text_cell_render{\n",
      "        font-family: Computer Modern, \"Helvetica Neue\", Arial, Helvetica, Geneva, sans-serif;\n",
      "        line-height: 145%;\n",
      "        font-size: 130%;\n",
      "        width:800px;\n",
      "        margin-left:auto;\n",
      "        margin-right:auto;\n",
      "    }\n",
      "    .CodeMirror{\n",
      "            font-family: \"Source Code Pro\", source-code-pro,Consolas, monospace;\n",
      "    }\n",
      "    .text_cell_render h5 {\n",
      "        font-weight: 300;\n",
      "        font-size: 22pt;\n",
      "        color: #4057A1;\n",
      "        font-style: italic;\n",
      "        margin-bottom: .5em;\n",
      "        margin-top: 0.5em;\n",
      "        display: block;\n",
      "    }\n",
      "    \n",
      "    .warning{\n",
      "        color: rgb( 240, 20, 20 )\n",
      "        }  \n",
      "</style>"
     ]
    }
   ],
   "metadata": {}
  }
 ]
}